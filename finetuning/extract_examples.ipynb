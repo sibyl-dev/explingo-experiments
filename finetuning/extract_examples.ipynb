{
 "cells": [
  {
   "cell_type": "code",
   "id": "initial_id",
   "metadata": {
    "collapsed": true,
    "ExecuteTime": {
     "end_time": "2024-07-25T20:41:56.477346Z",
     "start_time": "2024-07-25T20:41:56.463180Z"
    }
   },
   "source": [
    "import json\n",
    "import re\n",
    "\n",
    "def format_exp(s):\n",
    "    # Define a function to format a match\n",
    "    bad_desc = \"\"\n",
    "    def format_match(match):\n",
    "        # Split the numbers by comma and strip any spaces\n",
    "        numbers = [num.strip() for num in match.group(0)[1:-1].split(',')]\n",
    "        try:\n",
    "            numbers[1] = f\"{float(numbers[1]):.2f}\"\n",
    "        except:\n",
    "            pass\n",
    "        numbers[2] = f\"{float(numbers[2]):.2f}\"\n",
    "        # Reconstruct the string with the formatted numbers\n",
    "        nonlocal bad_desc\n",
    "        bad_desc += f\"The {numbers[0]} feature has a values of {numbers[1]} and a SHAP value of {numbers[2]}. \"\n",
    "        return f\"({', '.join(numbers[0:3])})\"\n",
    "    \n",
    "    # Find all sets of numbers within parentheses\n",
    "    pattern = re.compile(r'\\([^()]*\\)')\n",
    "    result = re.sub(pattern, format_match, s)\n",
    "    return result, bad_desc\n",
    "\n",
    "def parse_convo(convo):\n",
    "  exp = convo['messages'][1]['content']\n",
    "  exp, bad_desc = format_exp(exp)\n",
    "  \n",
    "  desc = convo['messages'][2]['content']\n",
    "  \n",
    "  return {\"explanation\":exp, \n",
    "          \"context\":\"The ML model predicts house prices\",\n",
    "          \"explanation_format\":\"SHAP feature contribution in (feature_name, feature_value, contribution) format\",\n",
    "          \"description\":desc,\n",
    "          \"bad_description\":bad_desc}\n",
    "\n",
    "training_data = json.load(open(\"finetuning_data.json\", \"r\"))\n",
    "examples = []\n",
    "for convo in training_data:\n",
    "  examples.append(parse_convo(convo))\n",
    "\n"
   ],
   "outputs": [],
   "execution_count": 1
  },
  {
   "cell_type": "code",
   "source": [
    "# Add unlabeled examples\n",
    "import os\n",
    "import pandas as pd\n",
    "\n",
    "def add_examples(filenames, context):\n",
    "    def parse_exp(exp, num_features=5):\n",
    "        features = []\n",
    "        if num_features is None:\n",
    "            num_features = len(exp)\n",
    "        for i in range(num_features):\n",
    "            feature_name = exp[i][\"Feature Name\"].strip()\n",
    "            feature_value = exp[i][\"Feature Value\"].strip()\n",
    "            try:\n",
    "                feature_value = f\"{float(feature_value):.2f}\"\n",
    "            except:\n",
    "                pass\n",
    "            contribution = f\"{float(exp[i]['Contribution']):.2f}\"\n",
    "\n",
    "            features.append(f\"({feature_name}, {feature_value}, {contribution})\")\n",
    "        return \", \".join(features)\n",
    "    \n",
    "    exp_files = [\n",
    "        os.path.join(\"..\", \"data\", f\"{filenames}_{i}.csv\") for i in range(3)\n",
    "    ]\n",
    "    exps = []\n",
    "    for exp in exp_files:\n",
    "        exp_df = pd.read_csv(exp)\n",
    "        exp_df = exp_df.sort_values(by=\"Contribution\", key=abs, ascending=False)\n",
    "        exps.append(exp_df.to_dict(\"records\"))\n",
    "    \n",
    "    for exp in exps:\n",
    "        examples.append(\n",
    "            {\n",
    "                \"explanation\": parse_exp(exp),\n",
    "                \"context\": context,\n",
    "                \"explanation_format\": \"SHAP feature contribution in (feature_name, feature_value, contribution) format\",\n",
    "            }\n",
    "        )\n",
    "    \n",
    "        \n",
    "add_examples(\"ames_housing\", \"The ML model predicts house prices\")\n",
    "add_examples(\"mushroom\", \"The model predicts whether a mushroom is poisonous\")\n",
    "add_examples(\"pdf_benign\", \"The model predicts whether a PDF file contains malware\")\n",
    "add_examples(\"pdf_malware\", \"The model predicts whether a PDF file contains malware\")\n",
    "add_examples(\"student_performance\", \"The model predicts if a student with pass their class\")"
   ],
   "metadata": {
    "collapsed": false,
    "ExecuteTime": {
     "end_time": "2024-07-25T20:41:56.523934Z",
     "start_time": "2024-07-25T20:41:56.479184Z"
    }
   },
   "id": "ae31f15615cc324",
   "outputs": [],
   "execution_count": 2
  },
  {
   "metadata": {
    "ExecuteTime": {
     "end_time": "2024-07-25T20:41:56.539459Z",
     "start_time": "2024-07-25T20:41:56.525866Z"
    }
   },
   "cell_type": "code",
   "source": [
    "with open(\"examples.json\", \"w\") as f:\n",
    "  json.dump(examples, f, indent=2)"
   ],
   "id": "389607e3211125c",
   "outputs": [],
   "execution_count": 3
  },
  {
   "metadata": {
    "ExecuteTime": {
     "end_time": "2024-07-25T20:41:56.555388Z",
     "start_time": "2024-07-25T20:41:56.541360Z"
    }
   },
   "cell_type": "code",
   "source": [],
   "id": "58c88c89d565dd2a",
   "outputs": [],
   "execution_count": 3
  }
 ],
 "metadata": {
  "kernelspec": {
   "display_name": "Python 3",
   "language": "python",
   "name": "python3"
  },
  "language_info": {
   "codemirror_mode": {
    "name": "ipython",
    "version": 2
   },
   "file_extension": ".py",
   "mimetype": "text/x-python",
   "name": "python",
   "nbconvert_exporter": "python",
   "pygments_lexer": "ipython2",
   "version": "2.7.6"
  }
 },
 "nbformat": 4,
 "nbformat_minor": 5
}

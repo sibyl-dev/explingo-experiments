{
 "cells": [
  {
   "cell_type": "code",
   "execution_count": 22,
   "id": "initial_id",
   "metadata": {
    "collapsed": true,
    "ExecuteTime": {
     "end_time": "2024-04-05T19:34:21.245466200Z",
     "start_time": "2024-04-05T19:34:21.212466100Z"
    }
   },
   "outputs": [
    {
     "name": "stdout",
     "output_type": "stream",
     "text": [
      "The algorithms predicts the price of a car in USD\n",
      "(Factor, Value, Average Value, Contribution), (Car age (in years), 6, 5, -2500), (Engine size (in liters), 2.0, 2.5, -1200), (Manufacturer, Ford, -, +1800)\n",
      "The algorithm predicts the chance an email is spam.\n",
      "(Factor, Value, Average Value, Contribution), (Number of exclamation marks, 3, 2, +0.5), (Contains word \"free\", Yes, -, +.8), (Sender domain, example.com, -, -.3)\n",
      "The algorithms predicts whether a customer will purchase a product.\n",
      "(Factor, Value, Average Value, Contribution), (Age of customer, 35, 40, -0.2), (Income of customer, $50,000, $60,000, +0.8), (Previous purchase history, Yes, -, +1.5)\n",
      "The algorithm predicts the likelihood of a customer purchasing a product.\n",
      "(Factor, Value, Average Value, Contribution), (Age, 35, 40, -0.2), (Income, $50,000, $60,000, +0.8), (Number of previous purchases, 3, 2, +1.5)\n",
      "The algorithm predicts the likelihood of a student passing a course.\n",
      "(Factor, Value, Average Value, Contribution), (Study hours per week, 10, 8, +0.5), (Attendance rate, 90%, 85%, +0.3), (Previous exam scores, 85%, 80%, +1.2)\n",
      "The algorithm predicts the sentiment of a movie review.\n",
      "(Factor, Value, Average Value, Contribution), (Number of positive words, 15, 12, +0.7), (Number of negative words, 5, 8, -0.4), (Presence of exclamation marks, Yes, -, +0.2)\n",
      "The algorithm predicts the likelihood of a customer renewing a subscription.\n",
      "(Factor, Value, Average Value, Contribution), (Length of subscription (in months), 12, 6, +0.8), (Number of support tickets raised, 2, 3, -0.5), (Usage frequency (daily/weekly/monthly), Weekly, -, +1.2)\n",
      "The algorithm predicts the probability of a customer defaulting on a loan.\n",
      "(Factor, Value, Average Value, Contribution), (Credit score, 650, 700, -0.3), (Debt-to-income ratio, 0.4, 0.3, +0.5), (Employment status, Unemployed, -, -1.2)\n",
      "The algorithm predicts the likelihood of a customer clicking on an online advertisement.\n",
      "(Factor, Value, Average Value, Contribution), (Time of day, Evening, -, +0.3), (Device type, Mobile, -, +0.5), (Relevance score, 7, 5, +1.2)\n"
     ]
    }
   ],
   "source": [
    "from bs4 import BeautifulSoup\n",
    "import pandas as pd\n",
    "\n",
    "html_codes = pd.read_csv('tables_for_dataset_generation_study.csv')\n",
    "\n",
    "for html_code in html_codes[\"Contribution explanations\"]:\n",
    "    if pd.isnull(html_code):\n",
    "        continue\n",
    "    soup = BeautifulSoup(html_code, 'html.parser')\n",
    "    header = soup.find('b').get_text(strip=True)\n",
    "    items = []\n",
    "    for i,row in enumerate(soup.find_all('tr')):\n",
    "        values = [val.text for val in row.find_all('td')]\n",
    "        values[-1] = values[-1].replace('$', '').replace(',', '')\n",
    "        stringified = ', '.join(values)\n",
    "        items.append(stringified)\n",
    "    # combine all items into a string, each surrounded by parentheses\n",
    "    result = '(' + '), ('.join(items) + ')'\n",
    "    print(header)\n",
    "    print(result)"
   ]
  },
  {
   "cell_type": "code",
   "outputs": [
    {
     "name": "stdout",
     "output_type": "stream",
     "text": [
      "(Factor, Importance Score (0-100)), (Length of subscription, 95), (Number of support tickets raised, 80), (Usage frequency (daily/weekly/monthly), 87)\n",
      "(Factor, Importance Score (0-100)), (House size (square feet), 98), (Neighborhood crime rate, 85), (Distance to city center, 78)\n",
      "(Factor, Importance Score (0-100)), (Number of positive words, 75), (Number of negative words, 68), (Presence of emojis, 40)\n",
      "(Factor, Importance Score (0-100)), (Genetic predisposition, 95), (Dietary habits, 80), (Exercise frequency, 85)\n",
      "(Factor, Importance Score (0-100)), (Target audience segmentation, 90), (Message clarity, 85), (Timing of campaign, 75)\n",
      "(Factor, Importance Score (0-100)), (Study hours, 95), (Previous exam scores, 85), (Attendance, 80)\n",
      "(Factor, Importance Score (0-100)), (Age of customer, 85), (Income of customer, 78), (Previous purchase history, 92)\n",
      "(Factor, Importance Score (0-100)), (Credit score, 90), (Debt-to-income ratio, 85), (Employment status, 78)\n",
      "(Factor, Importance Score (0-100)), (Overall satisfaction, 92), (Net promoter score, 88), (Customer service experience, 85)\n"
     ]
    }
   ],
   "source": [
    "for html_code in html_codes[\"Importance explanations\"]:\n",
    "    if pd.isnull(html_code):\n",
    "        continue\n",
    "    soup = BeautifulSoup(html_code, 'html.parser')\n",
    "    items = []\n",
    "    for i,row in enumerate(soup.find_all('tr')):\n",
    "        values = [val.text for val in row.find_all('td')]\n",
    "        stringified = ', '.join(values)\n",
    "        items.append(stringified)\n",
    "    # combine all items into a string, each surrounded by parentheses\n",
    "    result = '(' + '), ('.join(items) + ')'\n",
    "    print(result)"
   ],
   "metadata": {
    "collapsed": false,
    "ExecuteTime": {
     "end_time": "2024-04-05T19:31:08.480850600Z",
     "start_time": "2024-04-05T19:31:08.455852700Z"
    }
   },
   "id": "22a55c4f564bc92b",
   "execution_count": 18
  },
  {
   "cell_type": "code",
   "outputs": [
    {
     "name": "stdout",
     "output_type": "stream",
     "text": [
      "(Current factors, Hypothetical Factors), (Length of subscription: 12 months, Length of subscription: 6 months), (Number of support tickets raised: 3, Number of support tickets raised: 0), (Current prediction, Hypothetical Prediction), (High likelihood of churn, Likelihood of churn reduced)\n",
      "(Current factors, Hypothetical Factors), (House size (square feet): 2000, House size (square feet): 2500), (Neighborhood crime rate: Low, Neighborhood crime rate: Very low), (Current prediction, Hypothetical Prediction), ($300,000, $320,000)\n",
      "(Current factors, Hypothetical Factors), (Number of positive words: 5, Number of positive words: 10), (Number of negative words: 2, Number of negative words: 0), (Current prediction, Hypothetical Prediction), (Positive sentiment, Very positive sentiment)\n",
      "(Current factors, Hypothetical Factors), (Age of customer: 30, Age of customer: 40), (Income of customer: $50,000, Income of customer: $70,000), (Current prediction, Hypothetical Prediction), (50% probability of purchase, 70% probability of purchase)\n",
      "(Current factors, Hypothetical Factors), (Credit score: 650, Credit score: 700), (Debt-to-income ratio: 0.4, Debt-to-income ratio: 0.3), (Current prediction, Hypothetical Prediction), (High risk of default, Reduced risk of default)\n",
      "(Current factors, Hypothetical Factors), (Overall satisfaction: High, Overall satisfaction: Very high), (Net promoter score: 8, Net promoter score: 10), (Current prediction, Hypothetical Prediction), (Likely to recommend, Highly likely to recommend)\n",
      "(Current factors, Hypothetical Factors), (Genetic predisposition: High, Genetic predisposition: Low), (Dietary habits: Poor, Dietary habits: Healthy), (Current prediction, Hypothetical Prediction), (High likelihood of developing the disease, Low likelihood of developing the disease)\n",
      "(Current factors, Hypothetical Factors), (Target audience segmentation: Basic, Target audience segmentation: Advanced), (Message clarity: Average, Message clarity: Clear), (Current prediction, Hypothetical Prediction), (Moderate success predicted, High success predicted)\n",
      "(Current factors, Hypothetical Factors), (Study hours: 5, Study hours: 10), (Previous exam scores: 75%, Previous exam scores: 85%), (Current prediction, Hypothetical Prediction), (Likely to pass, Highly likely to pass)\n"
     ]
    }
   ],
   "source": [
    "for html_code in html_codes[\"Counterfactual explanations\"]:\n",
    "    if pd.isnull(html_code):\n",
    "        continue\n",
    "    soup = BeautifulSoup(html_code, 'html.parser')\n",
    "    items = []\n",
    "    for i,row in enumerate(soup.find_all('tr')):\n",
    "        values = [val.text for val in row.find_all('td')]\n",
    "        stringified = ', '.join(values)\n",
    "        items.append(stringified)\n",
    "    result = '(' + '), ('.join(items) + ')'\n",
    "    print(result)"
   ],
   "metadata": {
    "collapsed": false,
    "ExecuteTime": {
     "end_time": "2024-04-05T19:31:27.594101900Z",
     "start_time": "2024-04-05T19:31:27.572100800Z"
    }
   },
   "id": "72a6ca624c969775",
   "execution_count": 19
  },
  {
   "cell_type": "code",
   "outputs": [
    {
     "name": "stdout",
     "output_type": "stream",
     "text": [
      "(Feature: Age, Average Predicted Likelihood), (25 years, 0.3), (35 years, 0.6), (45 years, 0.8)\n",
      "(Feature: Credit Score, Average Predicted Risk), (600, 0.4), (700, 0.3), (800, 0.1)\n",
      "(Feature: Net Promoter Score, Average Predicted Likelihood), (6, 0.2), (8, 0.5), (10, 0.8)\n",
      "(Age Group, Average Predicted Likelihood), (18-24, 0.2), (25-34, 0.4), (35-44, 0.6)\n",
      "(Vehicle Type, Average Predicted Price), (Sedan, $20,000), (SUV, $25,000), (Truck, $30,000)\n",
      "(Time of Day, Average Predicted Likelihood), (Morning, 0.1), (Afternoon, 0.3), (Evening, 0.2)\n",
      "(Email Subject Line, Average Predicted Likelihood), (Discount Offer, 0.4), (New Product Announcement, 0.2), (Event Invitation, 0.3)\n",
      "(Brand, Average Predicted Price), (Apple, $800), (Samsung, $700), (Google, $600)\n",
      "(Current Subscription Level, Average Predicted Likelihood), (Basic, 0.1), (Premium, 0.4), (Ultimate, 0.7)\n"
     ]
    }
   ],
   "source": [
    "for html_code in html_codes[\"Feature-based\"]:\n",
    "    if pd.isnull(html_code):\n",
    "        continue\n",
    "    soup = BeautifulSoup(html_code, 'html.parser')\n",
    "    items = []\n",
    "    for i,row in enumerate(soup.find_all('tr')):\n",
    "        values = [val.text for val in row.find_all('td')]\n",
    "        stringified = ', '.join(values)\n",
    "        items.append(stringified)\n",
    "    result = '(' + '), ('.join(items) + ')'\n",
    "    print(result)"
   ],
   "metadata": {
    "collapsed": false,
    "ExecuteTime": {
     "end_time": "2024-04-05T19:32:30.095195200Z",
     "start_time": "2024-04-05T19:32:30.069178700Z"
    }
   },
   "id": "40c0365824b20a23",
   "execution_count": 20
  },
  {
   "cell_type": "code",
   "outputs": [],
   "source": [],
   "metadata": {
    "collapsed": false
   },
   "id": "e8ecbba9b22e6b98"
  }
 ],
 "metadata": {
  "kernelspec": {
   "display_name": "Python 3",
   "language": "python",
   "name": "python3"
  },
  "language_info": {
   "codemirror_mode": {
    "name": "ipython",
    "version": 2
   },
   "file_extension": ".py",
   "mimetype": "text/x-python",
   "name": "python",
   "nbconvert_exporter": "python",
   "pygments_lexer": "ipython2",
   "version": "2.7.6"
  }
 },
 "nbformat": 4,
 "nbformat_minor": 5
}

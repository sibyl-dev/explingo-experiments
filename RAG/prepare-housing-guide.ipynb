{
 "cells": [
  {
   "cell_type": "code",
   "execution_count": 27,
   "id": "initial_id",
   "metadata": {
    "collapsed": true,
    "ExecuteTime": {
     "end_time": "2024-04-04T14:59:59.422326Z",
     "start_time": "2024-04-04T14:56:22.005820600Z"
    }
   },
   "outputs": [
    {
     "name": "stdout",
     "output_type": "stream",
     "text": [
      "Starting from file 0\n",
      "File 10 of 287\n",
      "File 20 of 287\n",
      "File 30 of 287\n",
      "File 40 of 287\n",
      "File 50 of 287\n",
      "File 60 of 287\n",
      "File 70 of 287\n",
      "File 80 of 287\n",
      "File 90 of 287\n",
      "File 100 of 287\n",
      "File 110 of 287\n",
      "File 120 of 287\n",
      "File 130 of 287\n",
      "File 140 of 287\n",
      "File 150 of 287\n",
      "File 160 of 287\n",
      "File 170 of 287\n",
      "File 180 of 287\n",
      "File 190 of 287\n",
      "File 200 of 287\n",
      "File 210 of 287\n",
      "File 220 of 287\n",
      "File 230 of 287\n",
      "File 240 of 287\n",
      "File 250 of 287\n",
      "Error reading file The Impact of Sub-Metering on Condominium Electricity Demand.pdf: Odd-length string\n",
      "File 260 of 287\n",
      "File 270 of 287\n",
      "Error reading file Understanding the Unequal Post-Great Recession.pdf: 'utf-16-be' codec can't decode byte 0x66 in position 2: truncated data\n",
      "File 280 of 287\n"
     ]
    }
   ],
   "source": [
    "import pandas as pd\n",
    "import os\n",
    "import pypdf\n",
    "import docx\n",
    "\n",
    "DIR = os.path.join('..', 'data', 'real-estate-info')\n",
    "\n",
    "# read every file in DIR\n",
    "dfs = []\n",
    "files = []\n",
    "\n",
    "# if files.txt exists, read it into a list:\n",
    "if os.path.exists('files.txt'):\n",
    "    with open('files.txt', 'r') as f:\n",
    "        files = f.read().splitlines()\n",
    "\n",
    "counter = len(files)\n",
    "print(\"Starting from file %s\" % counter)\n",
    "for file in os.listdir(DIR):\n",
    "    if file in files:\n",
    "        continue\n",
    "    counter += 1\n",
    "    if counter % 10 == 0:\n",
    "        print(\"File %s of %s\" % (counter, len(os.listdir(DIR))))\n",
    "    if file.endswith('.pdf'):\n",
    "        try:\n",
    "            with open(os.path.join(DIR, file), 'rb') as f:\n",
    "                pdf = pypdf.PdfReader(f)\n",
    "                text = ''\n",
    "                for i in range(len(pdf.pages)):\n",
    "                    text += pdf.pages[i].extract_text()\n",
    "                dfs.append(text)\n",
    "                files.append(file)\n",
    "        except Exception as e:\n",
    "            print(\"Error reading file %s: %s\" % (file, e))\n",
    "    elif file.endswith('.docx'):\n",
    "        try:\n",
    "            doc = docx.Document(os.path.join(DIR, file))\n",
    "            text = ''\n",
    "            for para in doc.paragraphs:\n",
    "                text += para.text\n",
    "            dfs.append(text)\n",
    "            files.append(file)\n",
    "        except Exception as e:\n",
    "            print(\"Error reading file %s: %s\" % (file, e))\n",
    "            "
   ]
  },
  {
   "cell_type": "code",
   "outputs": [],
   "source": [
    "# save dfs to info.txt, delimeter is '---'\n",
    "with open(os.path.join('info.txt'), 'a', encoding=\"utf-8\") as info_f, open(os.path.join('files.txt'), 'a') as files_f:\n",
    "    for i in range(len(dfs)):\n",
    "        try:\n",
    "            info_f.write('---\\n')\n",
    "            info_f.write(files[i] + '\\n')\n",
    "            info_f.write(dfs[i] + '\\n')\n",
    "            files_f.write(files[i] + '\\n')\n",
    "        except Exception as e:\n",
    "            print(\"Error writing file %s: %s\" % (files[i], e))\n",
    "        "
   ],
   "metadata": {
    "collapsed": false,
    "ExecuteTime": {
     "end_time": "2024-04-04T15:00:08.882782700Z",
     "start_time": "2024-04-04T15:00:08.830121700Z"
    }
   },
   "id": "4d16b3fc957457ee",
   "execution_count": 29
  },
  {
   "cell_type": "code",
   "outputs": [],
   "source": [],
   "metadata": {
    "collapsed": false,
    "ExecuteTime": {
     "end_time": "2024-04-04T14:59:59.516801200Z",
     "start_time": "2024-04-04T14:59:59.503106Z"
    }
   },
   "id": "2331eb39191ba913",
   "execution_count": 28
  }
 ],
 "metadata": {
  "kernelspec": {
   "display_name": "Python 3",
   "language": "python",
   "name": "python3"
  },
  "language_info": {
   "codemirror_mode": {
    "name": "ipython",
    "version": 2
   },
   "file_extension": ".py",
   "mimetype": "text/x-python",
   "name": "python",
   "nbconvert_exporter": "python",
   "pygments_lexer": "ipython2",
   "version": "2.7.6"
  }
 },
 "nbformat": 4,
 "nbformat_minor": 5
}

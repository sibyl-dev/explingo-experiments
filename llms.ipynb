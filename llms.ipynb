{
  "cells": [
    {
      "cell_type": "markdown",
      "metadata": {
        "id": "view-in-github",
        "colab_type": "text"
      },
      "source": [
        "<a href=\"https://colab.research.google.com/github/sibyl-dev/Explingo/blob/main/llms.ipynb\" target=\"_parent\"><img src=\"https://colab.research.google.com/assets/colab-badge.svg\" alt=\"Open In Colab\"/></a>"
      ]
    },
    {
      "cell_type": "code",
      "execution_count": null,
      "id": "3442136d-29be-41d3-85c7-ba2046398acf",
      "metadata": {
        "id": "3442136d-29be-41d3-85c7-ba2046398acf"
      },
      "outputs": [],
      "source": [
        "# Import prerequisite libraries\n",
        "import os\n",
        "import openai\n",
        "import requests\n",
        "from langchain_experimental.agents import create_csv_agent\n",
        "from langchain.llms import OpenAI\n",
        "import streamlit as st\n",
        "import os\n",
        "import tempfile\n"
      ]
    },
    {
      "cell_type": "code",
      "execution_count": null,
      "id": "a06a7a01-eaa9-42df-9b69-cf3a03489f40",
      "metadata": {
        "id": "a06a7a01-eaa9-42df-9b69-cf3a03489f40"
      },
      "outputs": [],
      "source": [
        "\n",
        "# Setting the API key\n",
        "openai.api_key = #os.environ['OPENAI_API_KEY']\n",
        "\n",
        "# Perform tasks using OpenAI API\n",
        "client = openai.OpenAI(\n",
        "  api_key=openai.api_key,\n",
        ")"
      ]
    },
    {
      "cell_type": "code",
      "execution_count": null,
      "id": "339c5070-4b19-4db4-891b-a3112afbdb58",
      "metadata": {
        "id": "339c5070-4b19-4db4-891b-a3112afbdb58"
      },
      "outputs": [],
      "source": [
        "def fine_tune_model(prompt, dataset, model_engine=\"davinci\", num_epochs=3, batch_size=4):\n",
        "\n",
        "  headers = {\n",
        "   \"Content-Type\": \"application/json\",\n",
        "   \"Authorization\": f\"Bearer {openai.api_key}\",\n",
        "   }\n",
        "\n",
        "  data = {\n",
        "   \"model\": f\"{model_engine}-0\",\n",
        "   \"dataset\": dataset,\n",
        "   \"prompt\": prompt,\n",
        "   \"num_epochs\": num_epochs,\n",
        "   \"batch_size\": batch_size\n",
        "   }\n",
        "\n",
        "  url = \"https://api.openai.com/v1/fine-tunes\"\n",
        "  response = requests.post(url, headers=headers, json=data)\n",
        "\n",
        "  if response.status_code != 200:\n",
        "   raise ValueError(\"Failed to fine-tune the model.\")\n",
        "\n",
        "  # Get the ID of the fine-tuned model\n",
        "   model_id = response.json()[\"model_id\"]\n",
        "   return model_id"
      ]
    },
    {
      "cell_type": "code",
      "execution_count": null,
      "id": "c53db66a-c94a-4f31-bed5-e747117c25d1",
      "metadata": {
        "id": "c53db66a-c94a-4f31-bed5-e747117c25d1",
        "outputId": "c8528522-af07-4b94-879c-7bba77d60fa3"
      },
      "outputs": [
        {
          "name": "stderr",
          "output_type": "stream",
          "text": [
            "2024-01-29 20:39:26.866 \n",
            "  \u001b[33m\u001b[1mWarning:\u001b[0m to view this Streamlit app on a browser, run it with the following\n",
            "  command:\n",
            "\n",
            "    streamlit run /home/sarapid/.local/lib/python3.10/site-packages/ipykernel_launcher.py [ARGUMENTS]\n"
          ]
        }
      ],
      "source": [
        "st.set_page_config(page_title=\"Ask your CSV\")\n",
        "st.header(\"Ask your CSV\")\n",
        "\n",
        "file = st.file_uploader(\"upload file\", type=\"csv\")"
      ]
    },
    {
      "cell_type": "code",
      "execution_count": null,
      "id": "462e6fb1-01cd-48a1-be44-a19e4a8916f8",
      "metadata": {
        "id": "462e6fb1-01cd-48a1-be44-a19e4a8916f8"
      },
      "outputs": [],
      "source": [
        "if file is not None:\n",
        "    # Create a temporary file to store the uploaded CSV data\n",
        "    with tempfile.NamedTemporaryFile(mode='w+', suffix=\".csv\", delete=False) as f:\n",
        "        # Convert bytes to a string before writing to the file\n",
        "        data_str = file.getvalue().decode('utf-8')\n",
        "        f.write(data_str)\n",
        "        f.flush()"
      ]
    },
    {
      "cell_type": "code",
      "execution_count": null,
      "id": "f905efd7-00b9-4be0-92fb-772f95808235",
      "metadata": {
        "id": "f905efd7-00b9-4be0-92fb-772f95808235"
      },
      "outputs": [],
      "source": [
        "llm = OpenAI(temperature=0)\n",
        "user_input = st.text_input(\"Question here:\")\n",
        "agent = create_csv_agent(llm, f.name, verbose=True)\n",
        "if user_input:\n",
        "    response = agent.run(user_input)\n",
        "    st.write(response)"
      ]
    },
    {
      "cell_type": "code",
      "execution_count": null,
      "id": "16d28a35-04e8-4bac-a5f6-862534cf3299",
      "metadata": {
        "id": "16d28a35-04e8-4bac-a5f6-862534cf3299"
      },
      "outputs": [],
      "source": [
        "def main():\n",
        "    # Configure Streamlit page\n",
        "    st.set_page_config(page_title=\"Ask your CSV\")\n",
        "    st.header(\"Ask your CSV\")\n",
        "\n",
        "    # Allow the user to upload a CSV file\n",
        "    file = st.file_uploader(\"sample_interpretable_explanations.csv\", type=\"csv\")\n",
        "\n",
        "    if file is not None:\n",
        "        # Create a temporary file to store the uploaded CSV data\n",
        "        with tempfile.NamedTemporaryFile(mode='w+', suffix=\".csv\", delete=False) as f:\n",
        "            # Convert bytes to a string before writing to the file\n",
        "            data_str = file.getvalue().decode('utf-8')\n",
        "            f.write(data_str)\n",
        "            f.flush()\n",
        "\n",
        "            # Create an instance of the OpenAI language model with temperature set to 0\n",
        "            llm = OpenAI(temperature=0)\n",
        "\n",
        "            # Ask the user to input a question\n",
        "            user_input = st.text_input(\"Question here:\")\n",
        "\n",
        "            # Create a CSV agent using the OpenAI language model and the temporary file\n",
        "            agent = create_csv_agent(llm, f.name, verbose=True)\n",
        "\n",
        "            if user_input:\n",
        "                # Run the agent on the user's question and get the response\n",
        "                response = agent.run(user_input)\n",
        "                st.write(response)\n",
        "\n",
        "if __name__ == \"__main__\":\n",
        "    main()"
      ]
    },
    {
      "cell_type": "code",
      "execution_count": null,
      "id": "85b84a86-b90f-41e2-9f2e-83f9b5143200",
      "metadata": {
        "id": "85b84a86-b90f-41e2-9f2e-83f9b5143200"
      },
      "outputs": [],
      "source": []
    }
  ],
  "metadata": {
    "kernelspec": {
      "display_name": "Python 3 (ipykernel)",
      "language": "python",
      "name": "python3"
    },
    "language_info": {
      "codemirror_mode": {
        "name": "ipython",
        "version": 3
      },
      "file_extension": ".py",
      "mimetype": "text/x-python",
      "name": "python",
      "nbconvert_exporter": "python",
      "pygments_lexer": "ipython3",
      "version": "3.10.13"
    },
    "colab": {
      "provenance": [],
      "include_colab_link": true
    }
  },
  "nbformat": 4,
  "nbformat_minor": 5
}

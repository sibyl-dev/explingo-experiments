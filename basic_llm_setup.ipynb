{
  "nbformat": 4,
  "nbformat_minor": 0,
  "metadata": {
    "colab": {
      "private_outputs": true,
      "provenance": [],
      "authorship_tag": "ABX9TyOSDv+8VoJWfv2Bwc3ROz66",
      "include_colab_link": true
    },
    "kernelspec": {
      "name": "python3",
      "display_name": "Python 3"
    },
    "language_info": {
      "name": "python"
    }
  },
  "cells": [
    {
      "cell_type": "markdown",
      "metadata": {
        "id": "view-in-github",
        "colab_type": "text"
      },
      "source": [
        "<a href=\"https://colab.research.google.com/github/sibyl-dev/Explingo/blob/main/basic_llm_setup.ipynb\" target=\"_parent\"><img src=\"https://colab.research.google.com/assets/colab-badge.svg\" alt=\"Open In Colab\"/></a>"
      ]
    },
    {
      "cell_type": "code",
      "execution_count": null,
      "metadata": {
        "id": "1WeeBFF_T9Tk"
      },
      "outputs": [],
      "source": [
        "!pip install openai"
      ]
    },
    {
      "cell_type": "code",
      "source": [
        "from IPython.display import HTML, display\n",
        "\n",
        "def set_css():\n",
        "  display(HTML('''\n",
        "  <style>\n",
        "    pre {\n",
        "      white-space: pre-wrap;\n",
        "    }\n",
        "  </style>\n",
        "  '''))\n",
        "get_ipython().events.register('pre_run_cell', set_css)"
      ],
      "metadata": {
        "id": "iHApWGFpehr3"
      },
      "execution_count": null,
      "outputs": []
    },
    {
      "cell_type": "code",
      "source": [
        "import openai\n",
        "from google.colab import userdata\n",
        "import pandas as pd\n",
        "import numpy as np"
      ],
      "metadata": {
        "id": "8h1O2H2RUQG0"
      },
      "execution_count": null,
      "outputs": []
    },
    {
      "cell_type": "code",
      "source": [
        "# Perform tasks using OpenAI API\n",
        "client = openai.OpenAI(\n",
        "  api_key=userdata.get('openai'),\n",
        ")"
      ],
      "metadata": {
        "id": "9i9uWKm-UViz"
      },
      "execution_count": null,
      "outputs": []
    },
    {
      "cell_type": "code",
      "source": [
        "exp_df = pd.read_csv(\"ames_housing_0.csv\")\n",
        "exp_df = exp_df.sort_values(by=\"Contribution\", key=abs, ascending=False)\n",
        "exp = exp_df.to_dict('records')"
      ],
      "metadata": {
        "id": "RKXlmpt6aVVS"
      },
      "execution_count": null,
      "outputs": []
    },
    {
      "cell_type": "code",
      "source": [
        "def parse_exp(exp, num_features=5, include_average=True):\n",
        "  features = []\n",
        "  if num_features is None:\n",
        "    num_features = len(exp)\n",
        "  for i in range(num_features):\n",
        "    if include_average:\n",
        "      features.append(\"({}, {}, {}, {})\".format(exp[i]['Feature Name'].strip(),\n",
        "                                                exp[i]['Feature Value'],\n",
        "                                                exp[i]['Contribution'],\n",
        "                                                exp[i]['Average/Mode']))\n",
        "    else:\n",
        "      features.append(\"({}, {}, {})\".format(exp[i]['Feature Name'].strip(),\n",
        "                                                exp[i]['Feature Value'].strip(),\n",
        "                                                exp[i]['Contribution']))\n",
        "  return \", \".join(features)\n",
        "\n",
        "def show_responses(response, filename=None):\n",
        "  f = None\n",
        "  if filename is not None:\n",
        "    f = open(filename, \"w\")\n",
        "  for choice in response.choices:\n",
        "    if f is not None:\n",
        "      f.write(choice.message.content)\n",
        "      f.write(\"\\n\")\n",
        "    print(choice.message.content)\n",
        "    print(\"\\n\")\n",
        "  if f is not None:\n",
        "    f.close()"
      ],
      "metadata": {
        "id": "7JQ8QGSoaefb"
      },
      "execution_count": null,
      "outputs": []
    },
    {
      "cell_type": "code",
      "source": [
        "from openai import OpenAI\n",
        "\n",
        "prompt =  (\"You are a helpful assistant. \"\n",
        "           \"You are helping users understand an ML model's predictions. \"\n",
        "           \"Do not use more tokens that necessary but make your answers sound natural.\"\n",
        "           )\n",
        "question =  (\"Convert this feature contibution explanation, generated using SHAP, into a simple narrative. \"\n",
        "             \"The explanation is presented in (feature, feature_value, contribution, average_feature_value) format: \")\n",
        "explanation = parse_exp(exp, num_features=None)\n",
        "print(explanation)\n",
        "\n",
        "response = client.chat.completions.create(\n",
        "  model=\"gpt-3.5-turbo-0125\",\n",
        "  messages=[\n",
        "    {\"role\": \"system\", \"content\": prompt},\n",
        "    {\"role\": \"user\", \"content\": question + explanation}\n",
        "  ],\n",
        "  max_tokens=400,\n",
        "  temperature=.5,\n",
        "  n=10\n",
        ")"
      ],
      "metadata": {
        "id": "sLcpjA49UV5l"
      },
      "execution_count": null,
      "outputs": []
    },
    {
      "cell_type": "code",
      "source": [
        "show_responses(response)"
      ],
      "metadata": {
        "id": "UPMzN2lHU-1S"
      },
      "execution_count": null,
      "outputs": []
    },
    {
      "cell_type": "code",
      "source": [
        "\n",
        "from openai import OpenAI\n",
        "\n",
        "prompt =  (\"You are helping users understand an ML model's predictions. \"\n",
        "           \"Do not use more tokens that necessary and make your answers sound natural.\"\n",
        "           \"Give your answers in the form of simple narratives.\")\n",
        "question =  (\"I have this feature contribution explanation, in (feature, feature_value, contribution, average_feature_value) format:\\n{}. \\n\"\n",
        "             \"Please explain the model's prediction.\").format(parse_exp(exp))\n",
        "\n",
        "response = client.chat.completions.create(\n",
        "  model=\"gpt-3.5-turbo-0125\",\n",
        "  messages=[\n",
        "    {\"role\": \"system\", \"content\": prompt},\n",
        "    {\"role\": \"user\", \"content\": question}\n",
        "  ],\n",
        "  max_tokens=128,\n",
        "  temperature=.5,\n",
        "  n=5\n",
        ")"
      ],
      "metadata": {
        "id": "CY9LSqHbVQau"
      },
      "execution_count": null,
      "outputs": []
    },
    {
      "cell_type": "code",
      "source": [
        "show_responses(response)"
      ],
      "metadata": {
        "id": "2asfRdlWnE_y"
      },
      "execution_count": null,
      "outputs": []
    },
    {
      "cell_type": "code",
      "source": [
        "from openai import OpenAI\n",
        "\n",
        "configs = [\"Avoid mentioning specific contribution values in your narrative.\",\n",
        "           \"Be sure to explicitly include all contribution values in your narrative.\"]\n",
        "# Further config options: explicity state bounds for degree of contribution\n",
        "\n",
        "prompt =  (\"You are helping users understand an ML model's predictions. \"\n",
        "           \"Do not use more tokens that necessary and make your answers sound natural.\"\n",
        "           \"Give your answers in the form of simple narratives.\"\n",
        "           \"Avoid mentioning specific contribution values in your narrative.\")\n",
        "question =  (\"I have this feature contribution explanation, in (feature, feature_value, contribution, average_feature_value) format:\\n{}. \\n\"\n",
        "             \"Please explain the model's prediction.\").format(parse_exp(exp))\n",
        "\n",
        "response = client.chat.completions.create(\n",
        "  model=\"gpt-3.5-turbo-0125\",\n",
        "  messages=[\n",
        "    {\"role\": \"system\", \"content\": prompt},\n",
        "    {\"role\": \"user\", \"content\": question}\n",
        "  ],\n",
        "  max_tokens=128,\n",
        "  temperature=.5,\n",
        "  n=5\n",
        ")"
      ],
      "metadata": {
        "id": "r_aoVSrIoJIA"
      },
      "execution_count": null,
      "outputs": []
    },
    {
      "cell_type": "code",
      "source": [
        "show_responses(response)"
      ],
      "metadata": {
        "id": "DXMCG4v5qOk2"
      },
      "execution_count": null,
      "outputs": []
    },
    {
      "cell_type": "code",
      "source": [
        "# Explain the interaction values in a way that makes sense to non-experts\n"
      ],
      "metadata": {
        "id": "85twTBSZqUda"
      },
      "execution_count": null,
      "outputs": []
    }
  ]
}